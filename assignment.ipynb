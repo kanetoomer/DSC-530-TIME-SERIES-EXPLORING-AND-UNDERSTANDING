{
 "cells": [
  {
   "metadata": {
    "ExecuteTime": {
     "end_time": "2024-09-25T16:24:43.551439Z",
     "start_time": "2024-09-25T16:24:43.541857Z"
    }
   },
   "cell_type": "code",
   "source": [
    "import pandas as pd\n",
    "import numpy as np\n",
    "import matplotlib.pyplot as plt\n",
    "import statsmodels.api as sm"
   ],
   "id": "fbc121e30a2defb3",
   "outputs": [],
   "execution_count": 107
  },
  {
   "metadata": {
    "ExecuteTime": {
     "end_time": "2024-09-25T16:24:43.672783Z",
     "start_time": "2024-09-25T16:24:43.560090Z"
    }
   },
   "cell_type": "code",
   "source": [
    "file_path = 'data/AirQualityUCI.csv'\n",
    "df = pd.read_csv(file_path, delimiter=';')\n",
    "print(df.describe())\n",
    "df.columns = df.columns.str.strip(' ;')\n",
    "print(df.columns)"
   ],
   "id": "2ada7bd5e033ce5c",
   "outputs": [
    {
     "name": "stdout",
     "output_type": "stream",
     "text": [
      "       PT08.S1(CO)     NMHC(GT)  PT08.S2(NMHC)      NOx(GT)  PT08.S3(NOx)  \\\n",
      "count  9357.000000  9357.000000    9357.000000  9357.000000   9357.000000   \n",
      "mean   1048.990061  -159.090093     894.595276   168.616971    794.990168   \n",
      "std     329.832710   139.789093     342.333252   257.433866    321.993552   \n",
      "min    -200.000000  -200.000000    -200.000000  -200.000000   -200.000000   \n",
      "25%     921.000000  -200.000000     711.000000    50.000000    637.000000   \n",
      "50%    1053.000000  -200.000000     895.000000   141.000000    794.000000   \n",
      "75%    1221.000000  -200.000000    1105.000000   284.000000    960.000000   \n",
      "max    2040.000000  1189.000000    2214.000000  1479.000000   2683.000000   \n",
      "\n",
      "           NO2(GT)  PT08.S4(NO2)  PT08.S5(O3)  Unnamed: 15  Unnamed: 16  \n",
      "count  9357.000000   9357.000000  9357.000000          0.0          0.0  \n",
      "mean     58.148873   1391.479641   975.072032          NaN          NaN  \n",
      "std     126.940455    467.210125   456.938184          NaN          NaN  \n",
      "min    -200.000000   -200.000000  -200.000000          NaN          NaN  \n",
      "25%      53.000000   1185.000000   700.000000          NaN          NaN  \n",
      "50%      96.000000   1446.000000   942.000000          NaN          NaN  \n",
      "75%     133.000000   1662.000000  1255.000000          NaN          NaN  \n",
      "max     340.000000   2775.000000  2523.000000          NaN          NaN  \n",
      "Index(['Date', 'Time', 'CO(GT)', 'PT08.S1(CO)', 'NMHC(GT)', 'C6H6(GT)',\n",
      "       'PT08.S2(NMHC)', 'NOx(GT)', 'PT08.S3(NOx)', 'NO2(GT)', 'PT08.S4(NO2)',\n",
      "       'PT08.S5(O3)', 'T', 'RH', 'AH', 'Unnamed: 15', 'Unnamed: 16'],\n",
      "      dtype='object')\n"
     ]
    }
   ],
   "execution_count": 108
  },
  {
   "metadata": {
    "ExecuteTime": {
     "end_time": "2024-09-25T16:24:43.794069Z",
     "start_time": "2024-09-25T16:24:43.676399Z"
    }
   },
   "cell_type": "code",
   "source": [
    "df['Time'] = df['Time'].str.replace('.', ':')\n",
    "df['datetime'] = pd.to_datetime(df['Date'] + ' ' + df['Time'], dayfirst=True)\n",
    "df.set_index('datetime', inplace=True)\n",
    "print(df.head())"
   ],
   "id": "ab26e288978c1c07",
   "outputs": [
    {
     "name": "stdout",
     "output_type": "stream",
     "text": [
      "                           Date      Time CO(GT)  PT08.S1(CO)  NMHC(GT)  \\\n",
      "datetime                                                                  \n",
      "2004-03-10 18:00:00  10/03/2004  18:00:00    2,6       1360.0     150.0   \n",
      "2004-03-10 19:00:00  10/03/2004  19:00:00      2       1292.0     112.0   \n",
      "2004-03-10 20:00:00  10/03/2004  20:00:00    2,2       1402.0      88.0   \n",
      "2004-03-10 21:00:00  10/03/2004  21:00:00    2,2       1376.0      80.0   \n",
      "2004-03-10 22:00:00  10/03/2004  22:00:00    1,6       1272.0      51.0   \n",
      "\n",
      "                    C6H6(GT)  PT08.S2(NMHC)  NOx(GT)  PT08.S3(NOx)  NO2(GT)  \\\n",
      "datetime                                                                      \n",
      "2004-03-10 18:00:00     11,9         1046.0    166.0        1056.0    113.0   \n",
      "2004-03-10 19:00:00      9,4          955.0    103.0        1174.0     92.0   \n",
      "2004-03-10 20:00:00      9,0          939.0    131.0        1140.0    114.0   \n",
      "2004-03-10 21:00:00      9,2          948.0    172.0        1092.0    122.0   \n",
      "2004-03-10 22:00:00      6,5          836.0    131.0        1205.0    116.0   \n",
      "\n",
      "                     PT08.S4(NO2)  PT08.S5(O3)     T    RH      AH  \\\n",
      "datetime                                                             \n",
      "2004-03-10 18:00:00        1692.0       1268.0  13,6  48,9  0,7578   \n",
      "2004-03-10 19:00:00        1559.0        972.0  13,3  47,7  0,7255   \n",
      "2004-03-10 20:00:00        1555.0       1074.0  11,9  54,0  0,7502   \n",
      "2004-03-10 21:00:00        1584.0       1203.0  11,0  60,0  0,7867   \n",
      "2004-03-10 22:00:00        1490.0       1110.0  11,2  59,6  0,7888   \n",
      "\n",
      "                     Unnamed: 15  Unnamed: 16  \n",
      "datetime                                       \n",
      "2004-03-10 18:00:00          NaN          NaN  \n",
      "2004-03-10 19:00:00          NaN          NaN  \n",
      "2004-03-10 20:00:00          NaN          NaN  \n",
      "2004-03-10 21:00:00          NaN          NaN  \n",
      "2004-03-10 22:00:00          NaN          NaN  \n"
     ]
    }
   ],
   "execution_count": 109
  },
  {
   "metadata": {
    "ExecuteTime": {
     "end_time": "2024-09-25T16:24:45.028647Z",
     "start_time": "2024-09-25T16:24:43.797956Z"
    }
   },
   "cell_type": "code",
   "source": [
    "df['CO(GT)'] = df['CO(GT)'].str.replace(',', '.')\n",
    "df['CO(GT)'] = pd.to_numeric(df['CO(GT)'], errors='coerce')\n",
    "df['CO(GT)'] = df['CO(GT)'].replace([np.inf, -np.inf], np.nan)\n",
    "df['CO(GT)'] = df['CO(GT)'].ffill().bfill()\n",
    "df = df.dropna(subset=['CO(GT)'])\n",
    "print(f\"NaN values after cleaning: {df['CO(GT)'].isnull().sum()}\")\n",
    "print(f\"Infinite values after cleaning: {np.isinf(df['CO(GT)']).sum()}\")\n",
    "print(f\"Data range for 'CO(GT)': {df['CO(GT)'].min()} to {df['CO(GT)'].max()}\")\n",
    "print(df[['CO(GT)']].head(10))\n",
    "if df['CO(GT)'].isnull().sum() == 0 and np.isinf(df['CO(GT)']).sum() == 0:\n",
    "    print(\"Data is clean, proceeding with decomposition.\")\n",
    "\n",
    "    try:\n",
    "        decomposition = sm.tsa.seasonal_decompose(df['CO(GT)'], model='additive', period=12)\n",
    "        decomposition.plot()\n",
    "        plt.show()\n",
    "    except ValueError as e:\n",
    "        print(f\"Error during decomposition: {e}\")\n",
    "else:\n",
    "    print(\"Data still contains NaN or Inf values. Cannot proceed with decomposition.\")"
   ],
   "id": "2f7e6a9f97700617",
   "outputs": [
    {
     "name": "stdout",
     "output_type": "stream",
     "text": [
      "NaN values after cleaning: 0\n",
      "Infinite values after cleaning: 0\n",
      "Data range for 'CO(GT)': -200.0 to 11.9\n",
      "                     CO(GT)\n",
      "datetime                   \n",
      "2004-03-10 18:00:00     2.6\n",
      "2004-03-10 19:00:00     2.0\n",
      "2004-03-10 20:00:00     2.2\n",
      "2004-03-10 21:00:00     2.2\n",
      "2004-03-10 22:00:00     1.6\n",
      "2004-03-10 23:00:00     1.2\n",
      "2004-03-11 00:00:00     1.2\n",
      "2004-03-11 01:00:00     1.0\n",
      "2004-03-11 02:00:00     0.9\n",
      "2004-03-11 03:00:00     0.6\n",
      "Data is clean, proceeding with decomposition.\n",
      "Error during decomposition: Axis limits cannot be NaN or Inf\n"
     ]
    },
    {
     "data": {
      "text/plain": [
       "<Figure size 640x480 with 4 Axes>"
      ],
      "image/png": "[encoded data removed]"
     },
     "metadata": {},
     "output_type": "display_data"
    }
   ],
   "execution_count": 110
  }
 ],
 "metadata": {
  "kernelspec": {
   "display_name": "Python 3",
   "language": "python",
   "name": "python3"
  },
  "language_info": {
   "codemirror_mode": {
    "name": "ipython",
    "version": 2
   },
   "file_extension": ".py",
   "mimetype": "text/x-python",
   "name": "python",
   "nbconvert_exporter": "python",
   "pygments_lexer": "ipython2",
   "version": "2.7.6"
  }
 },
 "nbformat": 4,
 "nbformat_minor": 5
}
